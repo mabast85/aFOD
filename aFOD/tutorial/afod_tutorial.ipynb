{
 "cells": [
  {
   "cell_type": "markdown",
   "metadata": {},
   "source": [
    "---\n",
    "# Asymmetric FOD estimation tutorial\n",
    "\n",
    "**Matteo Bastiani, FMRIB**\n",
    "\n",
    "May 2018\n",
    "\n",
    "---\n",
    "\n",
    "This jupyter notebook explaines how to estimate asymmetric FODs from dMRI data using the qboot_v2 python package.\n",
    "Both FSL and the qboot_v2 python package need to have been already downloaded and succesfully installed.\n",
    "\n",
    "In this tutorial, we will use dMRI data provided by the FSL course.\n",
    "Data can be downloaded from the following link:\n",
    "https://fsl.fmrib.ox.ac.uk/fslcourse/downloads/fdt.tar.gz\n",
    "\n",
    "Once the download is complete, unpack the fdt.tar.gz file and change the following fsl_data_path and tutorial path accordingly."
   ]
  },
  {
   "cell_type": "code",
   "execution_count": null,
   "metadata": {
    "collapsed": true
   },
   "outputs": [],
   "source": [
    "fsl_data_path = '/Users/matteob/Downloads/fdt/fdt2/subj1'\n",
    "tutorial_path = '/Users/matteob/qboot_v2/aFOD/tutorial'"
   ]
  },
  {
   "cell_type": "code",
   "execution_count": null,
   "metadata": {},
   "outputs": [],
   "source": [
    "%%bash -s \"{fsl_data_path}\"\n",
    "\n",
    "mkdir -p ${1}/dti\n",
    "${FSLDIR}/bin/dtifit -k ${1}/data.nii.gz -o ${1}/dti/dti -m ${1}/nodif_brain_mask -r ${1}/bvecs -b ${1}/bvals  --kurt\n",
    "\n",
    "${FSLDIR}/bin/fslmaths ${1}/dti/dti_FA.nii.gz -thr 0.4 -ero -bin ${1}/dti/high_fa_mask"
   ]
  },
  {
   "cell_type": "code",
   "execution_count": null,
   "metadata": {
    "collapsed": true
   },
   "outputs": [],
   "source": [
    "# Import the csdeconv module\n",
    "from aFOD.csdeconv import csdeconv as csd"
   ]
  },
  {
   "cell_type": "markdown",
   "metadata": {},
   "source": [
    "## White matter response function estimation"
   ]
  },
  {
   "cell_type": "code",
   "execution_count": null,
   "metadata": {},
   "outputs": [],
   "source": [
    "# Estimate the white matter response function from high FA voxels up to spherical harmoic order of 4\n",
    "resp_max_harmonic_order = 4\n",
    "\n",
    "r_wm = csd.Response.get_response(fsl_data_path + '/data.nii.gz',\n",
    "                              fsl_data_path + '/dti/high_fa_mask.nii.gz',\n",
    "                              fsl_data_path + '/bvals',\n",
    "                              fsl_data_path + '/bvecs',\n",
    "                              resp_max_harmonic_order,\n",
    "                              dti_basename = fsl_data_path + '/dti/dti')"
   ]
  },
  {
   "cell_type": "markdown",
   "metadata": {},
   "source": [
    "The response function estimation method has correctly identified the 4 different b-shells in the dataset (0, 500, 1500, 2500 s/mm^2). It has estimated one response function per b-shell and stored its spherical harmonics coefficients in a [N_shells X N_even_coefficients] array.\n",
    "\n",
    "We can save the coefficients to a text file for reference and future use:"
   ]
  },
  {
   "cell_type": "code",
   "execution_count": null,
   "metadata": {
    "collapsed": true
   },
   "outputs": [],
   "source": [
    "# Store the response coefficients to a text file\n",
    "r_wm.write_coefficients(fsl_data_path + '/response_wm_l4.txt')"
   ]
  },
  {
   "cell_type": "markdown",
   "metadata": {
    "collapsed": true
   },
   "source": [
    "## Estimate aFODs\n",
    "\n",
    "Now, we can estimate the aFODS using the estimated response function."
   ]
  },
  {
   "cell_type": "code",
   "execution_count": null,
   "metadata": {
    "collapsed": true
   },
   "outputs": [],
   "source": [
    "# To speed things up, let's mask only 3 coronal slices...\n",
    "import nibabel as nib\n",
    "\n",
    "mask_obj = nib.load(fsl_data_path + '/nodif_brain_mask.nii.gz')\n",
    "mask = mask_obj.get_data()\n",
    "\n",
    "mask[:, 0:56, :] = 0\n",
    "mask[:, 59:, :] = 0\n",
    "\n",
    "nib.Nifti1Image(mask, None, mask_obj.header).to_filename(fsl_data_path + '/nodif_brain_mask_roi.nii.gz')"
   ]
  },
  {
   "cell_type": "code",
   "execution_count": null,
   "metadata": {
    "collapsed": true
   },
   "outputs": [],
   "source": [
    "# Estimate FODs up to harmonic order 8\n",
    "max_fod_harmonic_order = 8"
   ]
  },
  {
   "cell_type": "code",
   "execution_count": null,
   "metadata": {},
   "outputs": [],
   "source": [
    "afod = csd.csdeconv(r_wm,\n",
    "                    fsl_data_path + '/data.nii.gz',\n",
    "                    fsl_data_path + '/nodif_brain_mask_roi.nii.gz',\n",
    "                    fsl_data_path + '/bvals', \n",
    "                    fsl_data_path + '/bvecs',\n",
    "                    max_fod_harmonic_order,\n",
    "                    sym = False,\n",
    "                    out_file = fsl_data_path + '/MS_afod.nii.gz')"
   ]
  },
  {
   "cell_type": "markdown",
   "metadata": {},
   "source": [
    "For comparison, we can also estimate the symmetric FODs using multi-shell CSD."
   ]
  },
  {
   "cell_type": "code",
   "execution_count": null,
   "metadata": {},
   "outputs": [],
   "source": [
    "sfod = csd.csdeconv(r_wm,\n",
    "                    fsl_data_path + '/data.nii.gz',\n",
    "                    fsl_data_path + '/nodif_brain_mask_roi.nii.gz',\n",
    "                    fsl_data_path + '/bvals', \n",
    "                    fsl_data_path + '/bvecs',\n",
    "                    max_fod_harmonic_order,\n",
    "                    sym = True,\n",
    "                    out_file = fsl_data_path + '/MS_sfod.nii.gz')"
   ]
  },
  {
   "cell_type": "markdown",
   "metadata": {},
   "source": [
    "Once both asymmetric and symmetric FODs fit have run, it is possible to visualise the results using FSLeyes. Once you have looked at the results, close FSLeyes and carry on."
   ]
  },
  {
   "cell_type": "code",
   "execution_count": null,
   "metadata": {},
   "outputs": [],
   "source": [
    "%%bash -s \"{fsl_data_path}\"\n",
    "\n",
    "fsleyes ${1}/dti/dti_FA.nii.gz -dr 0 0.5 -in spline \\\n",
    "        ${1}/MS_afod.nii.gz -ot sh -sr 10 \\\n",
    "        ${1}/MS_sfod.nii.gz -ot sh -sr 10 &\n"
   ]
  },
  {
   "cell_type": "markdown",
   "metadata": {},
   "source": [
    "## Peaks extraction\n",
    "\n",
    "To extract peaks from the FODs, run the following commands:"
   ]
  },
  {
   "cell_type": "code",
   "execution_count": null,
   "metadata": {
    "collapsed": true
   },
   "outputs": [],
   "source": [
    "import os.path as op\n",
    "import numpy as np\n",
    "from aFOD.utils.utils import get_peaks"
   ]
  },
  {
   "cell_type": "code",
   "execution_count": null,
   "metadata": {
    "collapsed": true
   },
   "outputs": [],
   "source": [
    "# Read the sphere text file; this contains:\n",
    "# [x1 y1 z1 n11 n12 n13 -1]\n",
    "# [x2 y2 z2 n21 n22 n23 n24]\n",
    "# [x3 y3 z3 n31 n32 n33 n34]\n",
    "# [...]\n",
    "# [xN yN zN nN1 nN2 nN3 nN4]\n",
    "# Where x, y and z are the vertex coordinates and n are the neighbouring vertices index (-1 if none).\n",
    "resource_dir = op.dirname(csd.__file__)\n",
    "ico5 = op.join(resource_dir, 'ico_5.txt')\n",
    "\n",
    "sphere = np.genfromtxt(ico5, dtype=np.float)"
   ]
  },
  {
   "cell_type": "code",
   "execution_count": null,
   "metadata": {},
   "outputs": [],
   "source": [
    "# Extract up to 6 peaks from aFODs using non-linear optimisation.\n",
    "# Note that we need to extract so many peaks beacuse of the FOD being asymmetric.\n",
    "# In the case of symmetric FODs, 3 would be enough\n",
    "n_peaks = 6\n",
    "\n",
    "peaks, amplitudes = get_peaks(sphere,\n",
    "                              fsl_data_path + '/MS_afod.nii.gz',\n",
    "                              fsl_data_path + '/nodif_brain_mask_roi.nii.gz',\n",
    "                              max_fod_harmonic_order, \n",
    "                              sym=False, \n",
    "                              save_results=True, \n",
    "                              n=n_peaks, \n",
    "                              non_lin=True)"
   ]
  },
  {
   "cell_type": "markdown",
   "metadata": {},
   "source": [
    "Peaks extracted from aFODs can be visualised in FSLeyes, specifying that they should be interpreted as directed. Once you have looked at the results, close FSLeyes and carry on."
   ]
  },
  {
   "cell_type": "code",
   "execution_count": null,
   "metadata": {},
   "outputs": [],
   "source": [
    "%%bash -s \"{fsl_data_path}\"\n",
    "\n",
    "fsleyes ${1}/dti/dti_FA.nii.gz -dr 0 0.5 -in spline \\\n",
    "        ${1}/MS_afod.nii.gz -ot sh -sr 10 \\\n",
    "        ${1}/peak1.nii.gz -ot linevector -ld  -xc 1 1 1 -yc 1 1 1 -zc 1 1 1 -lw 2 \\\n",
    "        ${1}/peak2.nii.gz -ot linevector -ld  -xc 1 1 1 -yc 1 1 1 -zc 1 1 1 -lw 2 \\\n",
    "        ${1}/peak3.nii.gz -ot linevector -ld  -xc 1 1 1 -yc 1 1 1 -zc 1 1 1 -lw 2 \\\n",
    "        ${1}/peak4.nii.gz -ot linevector -ld  -xc 1 1 1 -yc 1 1 1 -zc 1 1 1 -lw 2 \\\n",
    "        ${1}/peak5.nii.gz -ot linevector -ld  -xc 1 1 1 -yc 1 1 1 -zc 1 1 1 -lw 2 \\\n",
    "        ${1}/peak6.nii.gz -ot linevector -ld  -xc 1 1 1 -yc 1 1 1 -zc 1 1 1 -lw 2 &\n"
   ]
  },
  {
   "cell_type": "markdown",
   "metadata": {},
   "source": [
    "## Multi-tissue aFODs\n",
    "\n",
    "It is possible to specify multiple response functions, one for each tissu-type.\n",
    "Response function can be estimated as before, i.e., providing a binary mask obtained from, e.g., a random seleciton of  voxels from a gray matter or csf segmentation.\n",
    "\n",
    "For the purpose of this tutorial, we have included the estimated 0-th order spherical harmonics coefficients for gray matter and csf in the tutorial folder. We can load them using the following commands:"
   ]
  },
  {
   "cell_type": "code",
   "execution_count": null,
   "metadata": {},
   "outputs": [],
   "source": [
    "r_gm = csd.Response.read_coefficients(tutorial_path + '/response_gm_l0.txt')\n",
    "\n",
    "r_csf = csd.Response.read_coefficients(tutorial_path + '/response_csf_l0.txt')"
   ]
  },
  {
   "cell_type": "markdown",
   "metadata": {},
   "source": [
    "Now we can run the aFOD estimation commands including the different response functions.\n",
    "\n",
    "**NOTE**\n",
    "The function assumes that the first reponse function in the list is always be the white matter one!!!"
   ]
  },
  {
   "cell_type": "code",
   "execution_count": null,
   "metadata": {},
   "outputs": [],
   "source": [
    "# We need to tell the function the harmonic orders of the different tissue-specific FODs\n",
    "max_fod_harmonic_order_mt = [8, 0, 0]\n",
    "\n",
    "afod = csd.csdeconv([r_wm, r_gm, r_csf],\n",
    "                    fsl_data_path + '/data.nii.gz',\n",
    "                    fsl_data_path + '/nodif_brain_mask_roi.nii.gz',\n",
    "                    fsl_data_path + '/bvals', \n",
    "                    fsl_data_path + '/bvecs',\n",
    "                    max_fod_harmonic_order_mt,\n",
    "                    sym = False,\n",
    "                    out_file = fsl_data_path + '/MSMT_afod.nii.gz')"
   ]
  },
  {
   "cell_type": "markdown",
   "metadata": {},
   "source": [
    "To visualise the white matter fods, we need to select a subset of the results, i.e., the first 81 SH coefficients."
   ]
  },
  {
   "cell_type": "code",
   "execution_count": null,
   "metadata": {},
   "outputs": [],
   "source": [
    "%%bash -s \"{fsl_data_path}\"\n",
    "\n",
    "${FSLDIR}/bin/fslroi ${1}/MSMT_afod.nii.gz ${1}/MSMT_afod_wm.nii.gz 0 81\n",
    "\n",
    "fsleyes ${1}/dti/dti_FA.nii.gz -dr 0 0.5 -in spline \\\n",
    "        ${1}/MSMT_afod_wm.nii.gz -ot sh -sr 10\n",
    "\n"
   ]
  },
  {
   "cell_type": "code",
   "execution_count": null,
   "metadata": {
    "collapsed": true
   },
   "outputs": [],
   "source": []
  }
 ],
 "metadata": {
  "kernelspec": {
   "display_name": "Python [default]",
   "language": "python",
   "name": "python3"
  },
  "language_info": {
   "codemirror_mode": {
    "name": "ipython",
    "version": 3
   },
   "file_extension": ".py",
   "mimetype": "text/x-python",
   "name": "python",
   "nbconvert_exporter": "python",
   "pygments_lexer": "ipython3",
   "version": "3.5.2"
  }
 },
 "nbformat": 4,
 "nbformat_minor": 2
}
